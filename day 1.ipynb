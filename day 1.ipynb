{
 "cells": [
  {
   "cell_type": "code",
   "execution_count": 2,
   "id": "005b99b4",
   "metadata": {},
   "outputs": [
    {
     "name": "stdout",
     "output_type": "stream",
     "text": [
      "2451662137680\n",
      "2451662137680\n"
     ]
    }
   ],
   "source": [
    "x=2\n",
    "y=2\n",
    "print(id(x))\n",
    "print(id(y))"
   ]
  },
  {
   "cell_type": "code",
   "execution_count": 3,
   "id": "544fc3e5",
   "metadata": {},
   "outputs": [
    {
     "name": "stdout",
     "output_type": "stream",
     "text": [
      "5 is of type <class 'int'>\n"
     ]
    }
   ],
   "source": [
    "a=5\n",
    "print(a,\"is of type\",type(a))"
   ]
  },
  {
   "cell_type": "code",
   "execution_count": 4,
   "id": "bfb3da03",
   "metadata": {},
   "outputs": [
    {
     "name": "stdout",
     "output_type": "stream",
     "text": [
      "5.7 is of type <class 'float'>\n"
     ]
    }
   ],
   "source": [
    "a=5.7\n",
    "print(a,\"is of type\",type(a))"
   ]
  },
  {
   "cell_type": "code",
   "execution_count": 7,
   "id": "2dc204c1",
   "metadata": {},
   "outputs": [
    {
     "name": "stdout",
     "output_type": "stream",
     "text": [
      "(1+3j) is complex number?\n",
      "True\n",
      "<class 'complex'>\n"
     ]
    }
   ],
   "source": [
    "a=1+3j\n",
    "print(a,\"is complex number?\")\n",
    "print(isinstance(a,complex))\n",
    "print(type(a))"
   ]
  },
  {
   "cell_type": "code",
   "execution_count": 6,
   "id": "f47b8e2e",
   "metadata": {},
   "outputs": [
    {
     "name": "stdout",
     "output_type": "stream",
     "text": [
      "1 is complex number?\n",
      "False\n"
     ]
    }
   ],
   "source": [
    "a=1\n",
    "print(a,\"is complex number?\")\n",
    "print(isinstance(a,complex))"
   ]
  },
  {
   "cell_type": "markdown",
   "id": "9efc74e3",
   "metadata": {},
   "source": [
    "## bolean"
   ]
  },
  {
   "cell_type": "code",
   "execution_count": 8,
   "id": "e9165c7e",
   "metadata": {},
   "outputs": [
    {
     "name": "stdout",
     "output_type": "stream",
     "text": [
      "<class 'bool'>\n"
     ]
    }
   ],
   "source": [
    "a=True\n",
    "print(type(a))"
   ]
  },
  {
   "cell_type": "markdown",
   "id": "c3624d7c",
   "metadata": {},
   "source": [
    "## strings"
   ]
  },
  {
   "cell_type": "code",
   "execution_count": 12,
   "id": "547aeede",
   "metadata": {},
   "outputs": [
    {
     "name": "stdout",
     "output_type": "stream",
     "text": [
      "my name is Babies Alexander\n",
      "      i am from nagercoil\n"
     ]
    }
   ],
   "source": [
    "a=\"\"\"my name is Babies Alexander\n",
    "      i am from nagercoil\"\"\"\n",
    "print(a)\n"
   ]
  },
  {
   "cell_type": "code",
   "execution_count": 15,
   "id": "641941f3",
   "metadata": {},
   "outputs": [
    {
     "name": "stdout",
     "output_type": "stream",
     "text": [
      " \n"
     ]
    }
   ],
   "source": [
    "print(a[2])"
   ]
  },
  {
   "cell_type": "code",
   "execution_count": 16,
   "id": "47dd85f9",
   "metadata": {},
   "outputs": [
    {
     "name": "stdout",
     "output_type": "stream",
     "text": [
      "l\n"
     ]
    }
   ],
   "source": [
    "print(a[-1])"
   ]
  },
  {
   "cell_type": "code",
   "execution_count": 17,
   "id": "4df143ab",
   "metadata": {},
   "outputs": [
    {
     "name": "stdout",
     "output_type": "stream",
     "text": [
      "liocregan morf ma i      \n",
      "rednaxelA seibaB si eman ym\n"
     ]
    }
   ],
   "source": [
    "print(a[::-1])"
   ]
  },
  {
   "cell_type": "code",
   "execution_count": 20,
   "id": "06ea5182",
   "metadata": {},
   "outputs": [
    {
     "data": {
      "text/plain": [
       "'me'"
      ]
     },
     "execution_count": 20,
     "metadata": {},
     "output_type": "execute_result"
    }
   ],
   "source": [
    "a[5:7]"
   ]
  },
  {
   "cell_type": "markdown",
   "id": "3f1a0045",
   "metadata": {},
   "source": [
    "## list"
   ]
  },
  {
   "cell_type": "code",
   "execution_count": 21,
   "id": "f78267b6",
   "metadata": {},
   "outputs": [
    {
     "name": "stdout",
     "output_type": "stream",
     "text": [
      "[5, 8, 'bab', 9.7]\n"
     ]
    }
   ],
   "source": [
    "a=[5,8,\"bab\",9.7]\n",
    "print(a)"
   ]
  },
  {
   "cell_type": "code",
   "execution_count": 23,
   "id": "ca37aeb0",
   "metadata": {},
   "outputs": [
    {
     "data": {
      "text/plain": [
       "'bab'"
      ]
     },
     "execution_count": 23,
     "metadata": {},
     "output_type": "execute_result"
    }
   ],
   "source": [
    "a[2]"
   ]
  },
  {
   "cell_type": "code",
   "execution_count": 24,
   "id": "cf1e70c5",
   "metadata": {},
   "outputs": [],
   "source": [
    "a[2]=\"babies\""
   ]
  },
  {
   "cell_type": "code",
   "execution_count": 25,
   "id": "7137c424",
   "metadata": {},
   "outputs": [
    {
     "data": {
      "text/plain": [
       "[5, 8, 'babies', 9.7]"
      ]
     },
     "execution_count": 25,
     "metadata": {},
     "output_type": "execute_result"
    }
   ],
   "source": [
    "a"
   ]
  },
  {
   "cell_type": "markdown",
   "id": "e605219a",
   "metadata": {},
   "source": [
    "## tuples"
   ]
  },
  {
   "cell_type": "code",
   "execution_count": 26,
   "id": "66a84ef0",
   "metadata": {},
   "outputs": [],
   "source": [
    "t=(9,8,9.6,\"seibab\")"
   ]
  },
  {
   "cell_type": "code",
   "execution_count": 27,
   "id": "4c17c516",
   "metadata": {},
   "outputs": [
    {
     "ename": "TypeError",
     "evalue": "'tuple' object does not support item assignment",
     "output_type": "error",
     "traceback": [
      "\u001b[1;31m---------------------------------------------------------------------------\u001b[0m",
      "\u001b[1;31mTypeError\u001b[0m                                 Traceback (most recent call last)",
      "\u001b[1;32m~\\AppData\\Local\\Temp\\ipykernel_28552\\1398696889.py\u001b[0m in \u001b[0;36m<module>\u001b[1;34m\u001b[0m\n\u001b[1;32m----> 1\u001b[1;33m \u001b[0mt\u001b[0m\u001b[1;33m[\u001b[0m\u001b[1;36m0\u001b[0m\u001b[1;33m]\u001b[0m\u001b[1;33m=\u001b[0m\u001b[1;36m990\u001b[0m\u001b[1;33m\u001b[0m\u001b[1;33m\u001b[0m\u001b[0m\n\u001b[0m",
      "\u001b[1;31mTypeError\u001b[0m: 'tuple' object does not support item assignment"
     ]
    }
   ],
   "source": [
    "t[0]=990   ## we cant modify tuple but can modify in list"
   ]
  },
  {
   "cell_type": "code",
   "execution_count": 28,
   "id": "a0d49cf7",
   "metadata": {},
   "outputs": [
    {
     "data": {
      "text/plain": [
       "('Rohan', 'Physics', 21, 69.75, 1, 2, 3, 4, 5)"
      ]
     },
     "execution_count": 28,
     "metadata": {},
     "output_type": "execute_result"
    }
   ],
   "source": [
    "tup1 = (\"Rohan\", \"Physics\", 21, 69.75)\n",
    "tup2 = (1, 2, 3, 4, 5)\n",
    "tup1+tup2"
   ]
  },
  {
   "cell_type": "markdown",
   "id": "7fbc2ce2",
   "metadata": {},
   "source": [
    "## dictinary"
   ]
  },
  {
   "cell_type": "code",
   "execution_count": 1,
   "id": "491ca03d",
   "metadata": {},
   "outputs": [
    {
     "name": "stdout",
     "output_type": "stream",
     "text": [
      "{'a': 'apple', 'b': 'ball'}\n"
     ]
    }
   ],
   "source": [
    "d={'a':'apple','b':'ball'}\n",
    "print(d)"
   ]
  },
  {
   "cell_type": "code",
   "execution_count": 3,
   "id": "7bf1de25",
   "metadata": {},
   "outputs": [],
   "source": [
    "d['a']='iphone'"
   ]
  },
  {
   "cell_type": "code",
   "execution_count": 4,
   "id": "7917468c",
   "metadata": {},
   "outputs": [
    {
     "data": {
      "text/plain": [
       "{'a': 'iphone', 'b': 'ball'}"
      ]
     },
     "execution_count": 4,
     "metadata": {},
     "output_type": "execute_result"
    }
   ],
   "source": [
    "d"
   ]
  },
  {
   "cell_type": "code",
   "execution_count": 5,
   "id": "f87ed51e",
   "metadata": {},
   "outputs": [
    {
     "name": "stdout",
     "output_type": "stream",
     "text": [
      "hello world\n"
     ]
    }
   ],
   "source": [
    "print(\"hello world\")"
   ]
  },
  {
   "cell_type": "code",
   "execution_count": 7,
   "id": "33c2375d",
   "metadata": {},
   "outputs": [
    {
     "name": "stdout",
     "output_type": "stream",
     "text": [
      "the value of  a is 10\n",
      "the value of a is10\n"
     ]
    }
   ],
   "source": [
    "a=10\n",
    "print(\"the value of  a is\",a)\n",
    "print(\"the value of a is\"+str(a))"
   ]
  },
  {
   "cell_type": "markdown",
   "id": "71daa3ba",
   "metadata": {},
   "source": [
    "## output formatting"
   ]
  },
  {
   "cell_type": "code",
   "execution_count": 9,
   "id": "5385c352",
   "metadata": {},
   "outputs": [
    {
     "name": "stdout",
     "output_type": "stream",
     "text": [
      "the value of a is 10 and b is 20\n"
     ]
    }
   ],
   "source": [
    "a=10 ;b=20\n",
    "print(\"the value of a is {} and b is {}\".format(a,b))"
   ]
  },
  {
   "cell_type": "code",
   "execution_count": 10,
   "id": "fc0b3e2b",
   "metadata": {},
   "outputs": [
    {
     "name": "stdout",
     "output_type": "stream",
     "text": [
      "the value of b is 20 and a is 10\n"
     ]
    }
   ],
   "source": [
    "a=10 ;b=20\n",
    "print(\"the value of b is {1} and a is {0}\".format(a,b))"
   ]
  },
  {
   "cell_type": "code",
   "execution_count": 12,
   "id": "24eb1806",
   "metadata": {},
   "outputs": [
    {
     "name": "stdout",
     "output_type": "stream",
     "text": [
      "hello babies,good night\n"
     ]
    }
   ],
   "source": [
    "print(\"hello {name},{gretting}\".format(name=\"babies\",gretting=\"good night\"))"
   ]
  },
  {
   "cell_type": "markdown",
   "id": "60bd3191",
   "metadata": {},
   "source": [
    "## control flow"
   ]
  },
  {
   "cell_type": "code",
   "execution_count": 13,
   "id": "9bf197a5",
   "metadata": {},
   "outputs": [
    {
     "name": "stdout",
     "output_type": "stream",
     "text": [
      "this will print always\n"
     ]
    }
   ],
   "source": [
    "num=10\n",
    "if None:\n",
    "    print(\"the num is positive\")\n",
    "print(\"this will print always\")"
   ]
  },
  {
   "cell_type": "code",
   "execution_count": 14,
   "id": "a7fb1b89",
   "metadata": {},
   "outputs": [
    {
     "name": "stdout",
     "output_type": "stream",
     "text": [
      "the num is positive\n",
      "this will print always\n"
     ]
    }
   ],
   "source": [
    "num=10\n",
    "if 4:\n",
    "    print(\"the num is positive\")\n",
    "print(\"this will print always\")"
   ]
  },
  {
   "cell_type": "code",
   "execution_count": 15,
   "id": "8ef2e177",
   "metadata": {},
   "outputs": [
    {
     "name": "stdout",
     "output_type": "stream",
     "text": [
      "this will print always\n"
     ]
    }
   ],
   "source": [
    "num=10\n",
    "if 0:\n",
    "    print(\"the num is positive\")\n",
    "print(\"this will print always\")"
   ]
  },
  {
   "cell_type": "code",
   "execution_count": 16,
   "id": "f3c41884",
   "metadata": {},
   "outputs": [
    {
     "name": "stdout",
     "output_type": "stream",
     "text": [
      "largest number among three is: 3\n"
     ]
    }
   ],
   "source": [
    "a=1\n",
    "b=2\n",
    "c=3\n",
    "\n",
    "if a>=b and a>=c :\n",
    "    largest=a\n",
    "elif b>=a and b>=c:\n",
    "    largest=b\n",
    "else:\n",
    "    largest=c\n",
    "print(\"largest number among three is: {}\".format(largest))"
   ]
  },
  {
   "cell_type": "code",
   "execution_count": null,
   "id": "b8d2cac9",
   "metadata": {},
   "outputs": [],
   "source": []
  }
 ],
 "metadata": {
  "kernelspec": {
   "display_name": "Python 3 (ipykernel)",
   "language": "python",
   "name": "python3"
  },
  "language_info": {
   "codemirror_mode": {
    "name": "ipython",
    "version": 3
   },
   "file_extension": ".py",
   "mimetype": "text/x-python",
   "name": "python",
   "nbconvert_exporter": "python",
   "pygments_lexer": "ipython3",
   "version": "3.9.13"
  }
 },
 "nbformat": 4,
 "nbformat_minor": 5
}
