{
 "cells": [
  {
   "cell_type": "markdown",
   "id": "02baca80",
   "metadata": {},
   "source": [
    "## HCF OF TWO NUMBERS"
   ]
  },
  {
   "cell_type": "code",
   "execution_count": 2,
   "id": "1f698d71",
   "metadata": {},
   "outputs": [
    {
     "name": "stdout",
     "output_type": "stream",
     "text": [
      "enter num198\n",
      "enter num278\n",
      "2\n"
     ]
    }
   ],
   "source": [
    "def computehcf(a,b):\n",
    "    smaller=b if a>b else a\n",
    "    \n",
    "    hcf=1\n",
    "    for i in range(1,smaller+1):\n",
    "        if (a%i==0) and (b%i==0):\n",
    "            hcf=i\n",
    "    return hcf\n",
    "a=int(input(\"enter num1\"))\n",
    "b=int(input(\"enter num2\"))\n",
    "t=computehcf(a,b)\n",
    "print(t)"
   ]
  },
  {
   "cell_type": "markdown",
   "id": "45fa94ee",
   "metadata": {},
   "source": [
    "## dir #nn"
   ]
  },
  {
   "cell_type": "code",
   "execution_count": 3,
   "id": "5a5fbc97",
   "metadata": {},
   "outputs": [
    {
     "name": "stdout",
     "output_type": "stream",
     "text": [
      "['__add__', '__class__', '__class_getitem__', '__contains__', '__delattr__', '__delitem__', '__dir__', '__doc__', '__eq__', '__format__', '__ge__', '__getattribute__', '__getitem__', '__gt__', '__hash__', '__iadd__', '__imul__', '__init__', '__init_subclass__', '__iter__', '__le__', '__len__', '__lt__', '__mul__', '__ne__', '__new__', '__reduce__', '__reduce_ex__', '__repr__', '__reversed__', '__rmul__', '__setattr__', '__setitem__', '__sizeof__', '__str__', '__subclasshook__', 'append', 'clear', 'copy', 'count', 'extend', 'index', 'insert', 'pop', 'remove', 'reverse', 'sort']\n"
     ]
    }
   ],
   "source": [
    "numbers=[1,2,3,4]   ## dir function returns the all the function we can use in the list\n",
    "print(dir(numbers))"
   ]
  },
  {
   "cell_type": "markdown",
   "id": "c97e0474",
   "metadata": {},
   "source": [
    "## divmod()"
   ]
  },
  {
   "cell_type": "code",
   "execution_count": 4,
   "id": "722d2644",
   "metadata": {},
   "outputs": [
    {
     "name": "stdout",
     "output_type": "stream",
     "text": [
      "(4, 1)\n"
     ]
    }
   ],
   "source": [
    "## it returns the quotient and the remainder \n",
    "print(divmod(9,2))"
   ]
  },
  {
   "cell_type": "markdown",
   "id": "63aba723",
   "metadata": {},
   "source": [
    "## enumerate"
   ]
  },
  {
   "cell_type": "code",
   "execution_count": 5,
   "id": "560405f8",
   "metadata": {},
   "outputs": [
    {
     "name": "stdout",
     "output_type": "stream",
     "text": [
      "index 0 has value 10\n",
      "index 1 has value 20\n",
      "index 2 has value 30\n",
      "index 3 has value 40\n"
     ]
    }
   ],
   "source": [
    "numbers=[10,20,30,40]\n",
    "\n",
    "for index,num in enumerate(numbers):\n",
    "    print(\"index {0} has value {1}\".format(index,num))"
   ]
  },
  {
   "cell_type": "code",
   "execution_count": 6,
   "id": "3352a4ad",
   "metadata": {},
   "outputs": [
    {
     "name": "stdout",
     "output_type": "stream",
     "text": [
      "index 10 has value 10\n",
      "index 11 has value 20\n",
      "index 12 has value 30\n",
      "index 13 has value 40\n"
     ]
    }
   ],
   "source": [
    "numbers=[10,20,30,40]\n",
    "\n",
    "for index,num in enumerate(numbers,10):\n",
    "    print(\"index {0} has value {1}\".format(index,num))"
   ]
  },
  {
   "cell_type": "code",
   "execution_count": 7,
   "id": "dd60f9b8",
   "metadata": {},
   "outputs": [
    {
     "name": "stdout",
     "output_type": "stream",
     "text": [
      "[-10, -9, -8, -7, -6, -5, -4, -3, -2, -1, 0, 1, 2, 3, 4, 5, 6, 7, 8, 9]\n"
     ]
    },
    {
     "data": {
      "text/plain": [
       "[1, 2, 3, 4, 5, 6, 7, 8, 9]"
      ]
     },
     "execution_count": 7,
     "metadata": {},
     "output_type": "execute_result"
    }
   ],
   "source": [
    "def positivenum(num):\n",
    "    if num>0:\n",
    "        return num\n",
    "number=range(-10,10)\n",
    "print(list(number))\n",
    "positive=list(filter(positivenum,number))\n",
    "positive\n",
    "              "
   ]
  },
  {
   "cell_type": "markdown",
   "id": "c7397b17",
   "metadata": {},
   "source": [
    "## map"
   ]
  },
  {
   "cell_type": "code",
   "execution_count": 8,
   "id": "4876fbf2",
   "metadata": {},
   "outputs": [
    {
     "name": "stdout",
     "output_type": "stream",
     "text": [
      "[1, 4, 9, 16]\n"
     ]
    }
   ],
   "source": [
    "num=[1,2,3,4]\n",
    "\n",
    "saquared=[]\n",
    "for i in num:\n",
    "    saquared.append(i**2)\n",
    "print(saquared)"
   ]
  },
  {
   "cell_type": "code",
   "execution_count": 9,
   "id": "3310701e",
   "metadata": {},
   "outputs": [
    {
     "name": "stdout",
     "output_type": "stream",
     "text": [
      "[1, 4, 9, 16, 25, 36, 49]\n"
     ]
    }
   ],
   "source": [
    "num=[1,2,3,4,5,6,7]\n",
    "\n",
    "def squared(num):\n",
    "    return num**2\n",
    "square=list(map(squared,num))\n",
    "print(square)"
   ]
  },
  {
   "cell_type": "code",
   "execution_count": 11,
   "id": "f9bf8808",
   "metadata": {},
   "outputs": [
    {
     "name": "stdout",
     "output_type": "stream",
     "text": [
      "[1, 4, 9, 16, 25, 36, 49]\n"
     ]
    }
   ],
   "source": [
    "num = [1, 2, 3, 4, 5, 6, 7]\n",
    "\n",
    "square = list(map(lambda x: x**2, num))\n",
    "\n",
    "print(square)\n"
   ]
  },
  {
   "cell_type": "markdown",
   "id": "4709480f",
   "metadata": {},
   "source": [
    "## reduce"
   ]
  },
  {
   "cell_type": "code",
   "execution_count": 10,
   "id": "097ee03e",
   "metadata": {},
   "outputs": [
    {
     "data": {
      "text/plain": [
       "120"
      ]
     },
     "execution_count": 10,
     "metadata": {},
     "output_type": "execute_result"
    }
   ],
   "source": [
    "from functools import reduce\n",
    "num=[1,2,3,4,5]\n",
    "def multiply(x,y):\n",
    "    return x*y\n",
    "product=reduce(multiply,num)\n",
    "product"
   ]
  },
  {
   "cell_type": "code",
   "execution_count": 12,
   "id": "aea6a11a",
   "metadata": {},
   "outputs": [
    {
     "data": {
      "text/plain": [
       "1680"
      ]
     },
     "execution_count": 12,
     "metadata": {},
     "output_type": "execute_result"
    }
   ],
   "source": [
    "num=[5,6,7,8]\n",
    "product=reduce(lambda x,y:x*y,num)\n",
    "product"
   ]
  },
  {
   "cell_type": "code",
   "execution_count": null,
   "id": "31a0509c",
   "metadata": {},
   "outputs": [],
   "source": []
  }
 ],
 "metadata": {
  "kernelspec": {
   "display_name": "Python 3 (ipykernel)",
   "language": "python",
   "name": "python3"
  },
  "language_info": {
   "codemirror_mode": {
    "name": "ipython",
    "version": 3
   },
   "file_extension": ".py",
   "mimetype": "text/x-python",
   "name": "python",
   "nbconvert_exporter": "python",
   "pygments_lexer": "ipython3",
   "version": "3.9.13"
  }
 },
 "nbformat": 4,
 "nbformat_minor": 5
}
