{
 "cells": [
  {
   "cell_type": "markdown",
   "id": "b8807ddd",
   "metadata": {},
   "source": [
    "## list creation"
   ]
  },
  {
   "cell_type": "code",
   "execution_count": 2,
   "id": "044cbb3e",
   "metadata": {},
   "outputs": [
    {
     "name": "stdout",
     "output_type": "stream",
     "text": [
      "[]\n",
      "['one', 'two', 'three']\n",
      "[[1, 2], [5, 6]]\n"
     ]
    }
   ],
   "source": [
    "emptylist=[]\n",
    "\n",
    "lst1=[\"one\",\"two\",\"three\"]\n",
    "\n",
    "lst2=[[1,2],[5,6]]\n",
    "\n",
    "print(emptylist)\n",
    "print(lst1)\n",
    "print(lst2)\n"
   ]
  },
  {
   "cell_type": "markdown",
   "id": "47a2e7c2",
   "metadata": {},
   "source": [
    "## length"
   ]
  },
  {
   "cell_type": "code",
   "execution_count": 3,
   "id": "2478752d",
   "metadata": {},
   "outputs": [
    {
     "data": {
      "text/plain": [
       "3"
      ]
     },
     "execution_count": 3,
     "metadata": {},
     "output_type": "execute_result"
    }
   ],
   "source": [
    "lst1=[\"one\",\"two\",\"three\"]\n",
    "\n",
    "len(lst1)"
   ]
  },
  {
   "cell_type": "code",
   "execution_count": 7,
   "id": "914ddfcf",
   "metadata": {},
   "outputs": [
    {
     "data": {
      "text/plain": [
       "['one', 'two', 'three', 'five']"
      ]
     },
     "execution_count": 7,
     "metadata": {},
     "output_type": "execute_result"
    }
   ],
   "source": [
    "## append\n",
    "\n",
    "lst1=[\"one\",\"two\",\"three\"]\n",
    "\n",
    "lst1.append(\"five\")\n",
    "lst1"
   ]
  },
  {
   "cell_type": "code",
   "execution_count": 8,
   "id": "0bbffd52",
   "metadata": {},
   "outputs": [
    {
     "data": {
      "text/plain": [
       "['one', 'two', 'three', 'four']"
      ]
     },
     "execution_count": 8,
     "metadata": {},
     "output_type": "execute_result"
    }
   ],
   "source": [
    "## insert\n",
    "lst1=[\"one\",\"two\",\"four\"]\n",
    "\n",
    "lst1.insert(2,\"three\")\n",
    "lst1"
   ]
  },
  {
   "cell_type": "code",
   "execution_count": 9,
   "id": "48f5119d",
   "metadata": {},
   "outputs": [
    {
     "data": {
      "text/plain": [
       "['one', 'three', 'four', 'two']"
      ]
     },
     "execution_count": 9,
     "metadata": {},
     "output_type": "execute_result"
    }
   ],
   "source": [
    "## Remove\n",
    "\n",
    "lst1=[\"one\",\"two\",\"three\",\"four\",\"two\"]\n",
    "\n",
    "\n",
    "lst1.remove(\"two\")\n",
    "lst1"
   ]
  },
  {
   "cell_type": "code",
   "execution_count": 11,
   "id": "865177a0",
   "metadata": {},
   "outputs": [
    {
     "data": {
      "text/plain": [
       "<function list.pop(index=-1, /)>"
      ]
     },
     "execution_count": 11,
     "metadata": {},
     "output_type": "execute_result"
    }
   ],
   "source": [
    "lst1.pop"
   ]
  },
  {
   "cell_type": "code",
   "execution_count": 13,
   "id": "8fefd3c9",
   "metadata": {},
   "outputs": [
    {
     "data": {
      "text/plain": [
       "['one', 'two', 'three', 'four', ['five', 'six']]"
      ]
     },
     "execution_count": 13,
     "metadata": {},
     "output_type": "execute_result"
    }
   ],
   "source": [
    "## append\n",
    "\n",
    "lst=[\"one\",\"two\",\"three\",\"four\"]\n",
    "lst2=[\"five\",\"six\"]\n",
    "\n",
    "lst.append(lst2)\n",
    "lst"
   ]
  },
  {
   "cell_type": "code",
   "execution_count": 14,
   "id": "109efa73",
   "metadata": {},
   "outputs": [
    {
     "data": {
      "text/plain": [
       "['one', 'two', 'three', 'four', 'five', 'six']"
      ]
     },
     "execution_count": 14,
     "metadata": {},
     "output_type": "execute_result"
    }
   ],
   "source": [
    "## extend\n",
    "\n",
    "lst=[\"one\",\"two\",\"three\",\"four\"]\n",
    "lst2=[\"five\",\"six\"]\n",
    "\n",
    "lst.extend(lst2)\n",
    "lst"
   ]
  },
  {
   "cell_type": "markdown",
   "id": "a13b2bed",
   "metadata": {},
   "source": [
    "## delete"
   ]
  },
  {
   "cell_type": "code",
   "execution_count": 16,
   "id": "a3dde246",
   "metadata": {},
   "outputs": [
    {
     "name": "stdout",
     "output_type": "stream",
     "text": [
      "['one', 'three', 'four']\n",
      "three\n",
      "['one', 'four']\n"
     ]
    }
   ],
   "source": [
    "lst=[\"one\",\"two\",\"three\",\"four\"]\n",
    "\n",
    "del lst[1]\n",
    "print(lst)\n",
    "\n",
    "## pop\n",
    "a=lst.pop(1)\n",
    "print(a)\n",
    "\n",
    "print(lst)"
   ]
  },
  {
   "cell_type": "code",
   "execution_count": 17,
   "id": "406ded2b",
   "metadata": {},
   "outputs": [
    {
     "data": {
      "text/plain": [
       "['one', 'two', 'four']"
      ]
     },
     "execution_count": 17,
     "metadata": {},
     "output_type": "execute_result"
    }
   ],
   "source": [
    "lst=[\"one\",\"two\",\"three\",\"four\"]\n",
    "\n",
    "lst.remove(\"three\")\n",
    "lst"
   ]
  },
  {
   "cell_type": "markdown",
   "id": "ade807fe",
   "metadata": {},
   "source": [
    "## list related keyword"
   ]
  },
  {
   "cell_type": "code",
   "execution_count": 19,
   "id": "c1ea2f83",
   "metadata": {},
   "outputs": [
    {
     "name": "stdout",
     "output_type": "stream",
     "text": [
      "AI\n",
      "ML\n"
     ]
    }
   ],
   "source": [
    "lst=[\"one\",\"two\",\"three\",\"four\"]\n",
    "\n",
    "if \"two\" in lst:\n",
    "    print(\"AI\")\n",
    "\n",
    "if \"six\" not in lst:\n",
    "    print(\"ML\")"
   ]
  },
  {
   "cell_type": "markdown",
   "id": "4780c789",
   "metadata": {},
   "source": [
    "## list reverse"
   ]
  },
  {
   "cell_type": "code",
   "execution_count": 20,
   "id": "b6b66aea",
   "metadata": {},
   "outputs": [
    {
     "data": {
      "text/plain": [
       "['four', 'three', 'two', 'one']"
      ]
     },
     "execution_count": 20,
     "metadata": {},
     "output_type": "execute_result"
    }
   ],
   "source": [
    "lst=[\"one\",\"two\",\"three\",\"four\"]\n",
    "\n",
    "lst.reverse()\n",
    "lst"
   ]
  },
  {
   "cell_type": "markdown",
   "id": "dee64bd1",
   "metadata": {},
   "source": [
    "## list sorting"
   ]
  },
  {
   "cell_type": "code",
   "execution_count": 21,
   "id": "bf2b3637",
   "metadata": {},
   "outputs": [
    {
     "data": {
      "text/plain": [
       "[1, 3, 4, 6, 7, 9]"
      ]
     },
     "execution_count": 21,
     "metadata": {},
     "output_type": "execute_result"
    }
   ],
   "source": [
    "num=[3,6,4,1,7,9]\n",
    "\n",
    "sorted_lst=sorted(num)\n",
    "sorted_lst"
   ]
  },
  {
   "cell_type": "code",
   "execution_count": 22,
   "id": "746c7c5b",
   "metadata": {},
   "outputs": [
    {
     "data": {
      "text/plain": [
       "[9, 7, 6, 4, 3, 1]"
      ]
     },
     "execution_count": 22,
     "metadata": {},
     "output_type": "execute_result"
    }
   ],
   "source": [
    "num=[3,6,4,1,7,9]\n",
    "\n",
    "sorted_lst=sorted(num,reverse=True)\n",
    "sorted_lst"
   ]
  },
  {
   "cell_type": "markdown",
   "id": "44179a5f",
   "metadata": {},
   "source": [
    "## list having multiple reference"
   ]
  },
  {
   "cell_type": "code",
   "execution_count": 27,
   "id": "46ee836d",
   "metadata": {},
   "outputs": [
    {
     "name": "stdout",
     "output_type": "stream",
     "text": [
      "[3, 6, 2, 4, 7, 9, 10]\n"
     ]
    }
   ],
   "source": [
    "lst=[3,6,2,4,7,9]\n",
    "abc=lst\n",
    "abc.append(10)\n",
    "\n",
    "print(lst)"
   ]
  },
  {
   "cell_type": "code",
   "execution_count": 31,
   "id": "8a80d572",
   "metadata": {},
   "outputs": [
    {
     "data": {
      "text/plain": [
       "['my', 'name', 'is', 'babies']"
      ]
     },
     "execution_count": 31,
     "metadata": {},
     "output_type": "execute_result"
    }
   ],
   "source": [
    "## split\n",
    "a=\"my,name,is,babies\"\n",
    "b=a.split(',')\n",
    "b"
   ]
  },
  {
   "cell_type": "markdown",
   "id": "f2a4c8f5",
   "metadata": {},
   "source": [
    "## index"
   ]
  },
  {
   "cell_type": "code",
   "execution_count": 32,
   "id": "0e6eebbc",
   "metadata": {},
   "outputs": [
    {
     "name": "stdout",
     "output_type": "stream",
     "text": [
      "2\n",
      "4\n",
      "[4, 3, 2, 1]\n"
     ]
    }
   ],
   "source": [
    "lst=[1,2,3,4]\n",
    "\n",
    "print(lst[1])\n",
    "print(lst[-1])\n",
    "print(lst[::-1])\n"
   ]
  },
  {
   "cell_type": "code",
   "execution_count": 35,
   "id": "d2cf7ac8",
   "metadata": {},
   "outputs": [
    {
     "name": "stdout",
     "output_type": "stream",
     "text": [
      "[1, 2, 3, 4]\n",
      "[1, 2, 3]\n",
      "[1, 3]\n",
      "[2, 4]\n"
     ]
    }
   ],
   "source": [
    "## slice\n",
    "\n",
    "lst=[1,2,3,4]\n",
    "print(lst[:])\n",
    "print(lst[0:3])\n",
    "print(lst[::2])\n",
    "print(lst[1::2])"
   ]
  },
  {
   "cell_type": "markdown",
   "id": "4e3c99bb",
   "metadata": {},
   "source": [
    "## count"
   ]
  },
  {
   "cell_type": "code",
   "execution_count": 39,
   "id": "b0ba2733",
   "metadata": {},
   "outputs": [
    {
     "name": "stdout",
     "output_type": "stream",
     "text": [
      "2\n",
      "2\n"
     ]
    }
   ],
   "source": [
    "num=[1,3,4,5,6,7,3,2,1,]\n",
    "print(num.count(1))\n",
    "print(num.count(3))"
   ]
  },
  {
   "cell_type": "markdown",
   "id": "c6392bce",
   "metadata": {},
   "source": [
    "## list comphrehension"
   ]
  },
  {
   "cell_type": "code",
   "execution_count": 40,
   "id": "cd3ab483",
   "metadata": {},
   "outputs": [
    {
     "name": "stdout",
     "output_type": "stream",
     "text": [
      "[0]\n",
      "[0, 1]\n",
      "[0, 1, 4]\n",
      "[0, 1, 4, 9]\n",
      "[0, 1, 4, 9, 16]\n",
      "[0, 1, 4, 9, 16, 25]\n",
      "[0, 1, 4, 9, 16, 25, 36]\n",
      "[0, 1, 4, 9, 16, 25, 36, 49]\n",
      "[0, 1, 4, 9, 16, 25, 36, 49, 64]\n",
      "[0, 1, 4, 9, 16, 25, 36, 49, 64, 81]\n",
      "[0, 1, 4, 9, 16, 25, 36, 49, 64, 81, 100]\n"
     ]
    }
   ],
   "source": [
    "## without comphrehension\n",
    "square=[]\n",
    "for i in range(0,11):\n",
    "    square.append(i**2)\n",
    "    print(square)"
   ]
  },
  {
   "cell_type": "code",
   "execution_count": 41,
   "id": "026e8ef4",
   "metadata": {},
   "outputs": [
    {
     "name": "stdout",
     "output_type": "stream",
     "text": [
      "[0, 1, 4, 9, 16, 25, 36, 49, 64, 81, 100]\n"
     ]
    }
   ],
   "source": [
    "square=[]\n",
    "for i in range(0,11):\n",
    "    square.append(i**2)\n",
    "print(square)"
   ]
  },
  {
   "cell_type": "code",
   "execution_count": 42,
   "id": "beb52424",
   "metadata": {},
   "outputs": [
    {
     "name": "stdout",
     "output_type": "stream",
     "text": [
      "[0, 1, 4, 9, 16, 25, 36, 49, 64, 81, 100]\n"
     ]
    }
   ],
   "source": [
    "## using comphrehension\n",
    "squares=[i**2 for i in range(0,11)]\n",
    "print(squares)"
   ]
  },
  {
   "cell_type": "code",
   "execution_count": null,
   "id": "76bbb0f0",
   "metadata": {},
   "outputs": [],
   "source": []
  }
 ],
 "metadata": {
  "kernelspec": {
   "display_name": "Python 3 (ipykernel)",
   "language": "python",
   "name": "python3"
  },
  "language_info": {
   "codemirror_mode": {
    "name": "ipython",
    "version": 3
   },
   "file_extension": ".py",
   "mimetype": "text/x-python",
   "name": "python",
   "nbconvert_exporter": "python",
   "pygments_lexer": "ipython3",
   "version": "3.9.13"
  }
 },
 "nbformat": 4,
 "nbformat_minor": 5
}
